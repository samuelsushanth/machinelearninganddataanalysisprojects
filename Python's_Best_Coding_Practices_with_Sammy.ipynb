{
  "nbformat": 4,
  "nbformat_minor": 0,
  "metadata": {
    "colab": {
      "provenance": [],
      "include_colab_link": true
    },
    "kernelspec": {
      "name": "python3",
      "display_name": "Python 3"
    },
    "language_info": {
      "name": "python"
    }
  },
  "cells": [
    {
      "cell_type": "markdown",
      "metadata": {
        "id": "view-in-github",
        "colab_type": "text"
      },
      "source": [
        "<a href=\"https://colab.research.google.com/github/samuelsushanth/machinelearninganddataanalysisprojects/blob/main/Python's_Best_Coding_Practices_with_Sammy.ipynb\" target=\"_parent\"><img src=\"https://colab.research.google.com/assets/colab-badge.svg\" alt=\"Open In Colab\"/></a>"
      ]
    },
    {
      "cell_type": "markdown",
      "source": [
        "## Python's Best Coding Practices\n",
        "---"
      ],
      "metadata": {
        "id": "WAFUeBgB0yRv"
      }
    },
    {
      "cell_type": "code",
      "source": [
        "# objective: you are asked to find the square of first 10 numbers."
      ],
      "metadata": {
        "id": "WGi5eduw0z9T"
      },
      "execution_count": null,
      "outputs": []
    },
    {
      "cell_type": "code",
      "execution_count": null,
      "metadata": {
        "colab": {
          "base_uri": "https://localhost:8080/"
        },
        "id": "5D-DrLLd0uqA",
        "outputId": "3b9c794e-e9c8-4c9b-c990-3c95620db30b"
      },
      "outputs": [
        {
          "output_type": "stream",
          "name": "stdout",
          "text": [
            "[1, 4, 9, 16, 25, 36, 49, 64, 81, 100]\n"
          ]
        }
      ],
      "source": [
        "# Regular Python Approach\n",
        "\n",
        "sqr_list = []\n",
        "\n",
        "for x in range(1, 11):\n",
        "\n",
        "  sqr_list.append( x ** 2)\n",
        "\n",
        "print(sqr_list)"
      ]
    },
    {
      "cell_type": "code",
      "source": [],
      "metadata": {
        "id": "KSBnf4Nz1WWg"
      },
      "execution_count": null,
      "outputs": []
    },
    {
      "cell_type": "code",
      "source": [
        "# Best Coding Approach\n",
        "[ x ** 2 for x in range(1,11)]"
      ],
      "metadata": {
        "colab": {
          "base_uri": "https://localhost:8080/"
        },
        "id": "R6DqG0cx1X3s",
        "outputId": "a4e42f33-5a87-422b-f171-55428812dafd"
      },
      "execution_count": null,
      "outputs": [
        {
          "output_type": "execute_result",
          "data": {
            "text/plain": [
              "[1, 4, 9, 16, 25, 36, 49, 64, 81, 100]"
            ]
          },
          "metadata": {},
          "execution_count": 3
        }
      ]
    },
    {
      "cell_type": "code",
      "source": [],
      "metadata": {
        "id": "OI76TAM91Z5w"
      },
      "execution_count": null,
      "outputs": []
    },
    {
      "cell_type": "markdown",
      "source": [
        "# Do you want to write code that is\n",
        "    - short\n",
        "    - simple\n",
        "    - readable\n",
        "    - fast\n",
        "    - elegant\n",
        "\n",
        "#### Do you want to increase your productivity and effciency ?\n",
        "\n",
        "#### do you want to do \"more with less lines of code \" ?\n",
        "\n",
        "#### then You must Learn \"Python's Best Coding Practices \""
      ],
      "metadata": {
        "id": "sIbzCz4T1lPE"
      }
    },
    {
      "cell_type": "code",
      "source": [],
      "metadata": {
        "id": "_QqU3Nd31wpq"
      },
      "execution_count": null,
      "outputs": []
    },
    {
      "cell_type": "markdown",
      "source": [
        "## Comprehension\n",
        "---\n",
        "\n",
        "Comprehension is simply one line code"
      ],
      "metadata": {
        "id": "3TepYbiy19w9"
      }
    },
    {
      "cell_type": "code",
      "source": [],
      "metadata": {
        "id": "rC5AzVXN2ByV"
      },
      "execution_count": null,
      "outputs": []
    },
    {
      "cell_type": "markdown",
      "source": [
        "# Types of Comprehension\n",
        "---\n",
        " 1. List  comprehension\n",
        " 2. Dictionary comprehension"
      ],
      "metadata": {
        "id": "3p2qm5BU2CmT"
      }
    },
    {
      "cell_type": "code",
      "source": [],
      "metadata": {
        "id": "dL4IV5nb2CLW"
      },
      "execution_count": null,
      "outputs": []
    },
    {
      "cell_type": "markdown",
      "source": [
        "## List Comprehension\n",
        "---\n"
      ],
      "metadata": {
        "id": "RwY3AczD2KT_"
      }
    },
    {
      "cell_type": "code",
      "source": [
        " # [    <outputExpression>                     <loop>                   ]"
      ],
      "metadata": {
        "id": "mP8X36O_21v9"
      },
      "execution_count": null,
      "outputs": []
    },
    {
      "cell_type": "code",
      "source": [
        "[               '🌻'                       for  x  in range( 1, 6 )    ]"
      ],
      "metadata": {
        "colab": {
          "base_uri": "https://localhost:8080/"
        },
        "id": "TJylUJpD2Ld8",
        "outputId": "287c87ac-cfda-48d9-d8dd-74d85a9aeb1d"
      },
      "execution_count": null,
      "outputs": [
        {
          "output_type": "execute_result",
          "data": {
            "text/plain": [
              "['🌻', '🌻', '🌻', '🌻', '🌻']"
            ]
          },
          "metadata": {},
          "execution_count": 4
        }
      ]
    },
    {
      "cell_type": "code",
      "source": [],
      "metadata": {
        "id": "NX8lr39H2sAb"
      },
      "execution_count": null,
      "outputs": []
    },
    {
      "cell_type": "code",
      "source": [
        "[               '🌻'                       for  x  in range( 1, 9 )    ]"
      ],
      "metadata": {
        "colab": {
          "base_uri": "https://localhost:8080/"
        },
        "id": "ncTUZOCD3R20",
        "outputId": "b79e4800-a899-4154-dc10-2136c97c3be4"
      },
      "execution_count": null,
      "outputs": [
        {
          "output_type": "execute_result",
          "data": {
            "text/plain": [
              "['🌻', '🌻', '🌻', '🌻', '🌻', '🌻', '🌻', '🌻']"
            ]
          },
          "metadata": {},
          "execution_count": 5
        }
      ]
    },
    {
      "cell_type": "code",
      "source": [],
      "metadata": {
        "id": "MaZIdSCR3Sst"
      },
      "execution_count": null,
      "outputs": []
    },
    {
      "cell_type": "code",
      "source": [
        "[               '🌻'                       for  x  in range( 1, 14)    ]"
      ],
      "metadata": {
        "colab": {
          "base_uri": "https://localhost:8080/"
        },
        "id": "pNBsyZed3S_T",
        "outputId": "0eeb4563-5d27-457b-fe89-21904c6bb579"
      },
      "execution_count": null,
      "outputs": [
        {
          "output_type": "execute_result",
          "data": {
            "text/plain": [
              "['🌻', '🌻', '🌻', '🌻', '🌻', '🌻', '🌻', '🌻', '🌻', '🌻', '🌻', '🌻', '🌻']"
            ]
          },
          "metadata": {},
          "execution_count": 6
        }
      ]
    },
    {
      "cell_type": "code",
      "source": [],
      "metadata": {
        "id": "29IwJPAn3UEO"
      },
      "execution_count": null,
      "outputs": []
    },
    {
      "cell_type": "code",
      "source": [],
      "metadata": {
        "id": "rAfNI06I3yAN"
      },
      "execution_count": null,
      "outputs": []
    },
    {
      "cell_type": "code",
      "source": [],
      "metadata": {
        "id": "QcRxoC813x5I"
      },
      "execution_count": null,
      "outputs": []
    },
    {
      "cell_type": "code",
      "source": [
        "# let us do a small experiment\n",
        "\n",
        "[               x                      for  x  in range( 1, 6 )    ]"
      ],
      "metadata": {
        "colab": {
          "base_uri": "https://localhost:8080/"
        },
        "id": "_kkMDTQG3x2P",
        "outputId": "9a31a58c-56dd-4ff2-e4a3-ab2ba1b2f011"
      },
      "execution_count": null,
      "outputs": [
        {
          "output_type": "execute_result",
          "data": {
            "text/plain": [
              "[1, 2, 3, 4, 5]"
            ]
          },
          "metadata": {},
          "execution_count": 7
        }
      ]
    },
    {
      "cell_type": "code",
      "source": [],
      "metadata": {
        "id": "CBVxYkkC3581"
      },
      "execution_count": null,
      "outputs": []
    },
    {
      "cell_type": "code",
      "source": [
        "\n",
        "[               x                      for  x  in range( 1, 11 )    ]"
      ],
      "metadata": {
        "colab": {
          "base_uri": "https://localhost:8080/"
        },
        "id": "g15IZBFY4CRa",
        "outputId": "e314da03-5a6e-44ee-b0fc-c6597057811d"
      },
      "execution_count": null,
      "outputs": [
        {
          "output_type": "execute_result",
          "data": {
            "text/plain": [
              "[1, 2, 3, 4, 5, 6, 7, 8, 9, 10]"
            ]
          },
          "metadata": {},
          "execution_count": 8
        }
      ]
    },
    {
      "cell_type": "code",
      "source": [],
      "metadata": {
        "id": "EyBaiNxt4Ei6"
      },
      "execution_count": null,
      "outputs": []
    },
    {
      "cell_type": "code",
      "source": [
        "\n",
        "[               x*x                      for  x  in range( 1, 11 )    ]"
      ],
      "metadata": {
        "colab": {
          "base_uri": "https://localhost:8080/"
        },
        "id": "ItCNQ-KO4JMh",
        "outputId": "b208fa27-bd2e-4bf2-f968-97b77c70c33e"
      },
      "execution_count": null,
      "outputs": [
        {
          "output_type": "execute_result",
          "data": {
            "text/plain": [
              "[1, 4, 9, 16, 25, 36, 49, 64, 81, 100]"
            ]
          },
          "metadata": {},
          "execution_count": 9
        }
      ]
    },
    {
      "cell_type": "code",
      "source": [],
      "metadata": {
        "id": "T_IV-rtM4MgL"
      },
      "execution_count": null,
      "outputs": []
    },
    {
      "cell_type": "code",
      "source": [
        "# here is a Fancy Stunt\n",
        "\n",
        "\n",
        "[               f'2 * {x} = {2*x}'                      for  x  in range( 1, 11 )    ]"
      ],
      "metadata": {
        "colab": {
          "base_uri": "https://localhost:8080/"
        },
        "id": "Ui6PuRsd4YHa",
        "outputId": "98783c01-1dec-4e9f-91dd-89307c56b0aa"
      },
      "execution_count": null,
      "outputs": [
        {
          "output_type": "execute_result",
          "data": {
            "text/plain": [
              "['2 * 1 = 2',\n",
              " '2 * 2 = 4',\n",
              " '2 * 3 = 6',\n",
              " '2 * 4 = 8',\n",
              " '2 * 5 = 10',\n",
              " '2 * 6 = 12',\n",
              " '2 * 7 = 14',\n",
              " '2 * 8 = 16',\n",
              " '2 * 9 = 18',\n",
              " '2 * 10 = 20']"
            ]
          },
          "metadata": {},
          "execution_count": 10
        }
      ]
    },
    {
      "cell_type": "code",
      "source": [],
      "metadata": {
        "id": "sCrWR0j94c7J"
      },
      "execution_count": null,
      "outputs": []
    },
    {
      "cell_type": "markdown",
      "source": [
        "# what is wrong with the code ?"
      ],
      "metadata": {
        "id": "aUBYgPre5Bsk"
      }
    },
    {
      "cell_type": "code",
      "source": [
        "#\n",
        "# [     <outputExpr>           <loop>                           <ifCondition> ]"
      ],
      "metadata": {
        "id": "FYMsZcC85P7R"
      },
      "execution_count": null,
      "outputs": []
    },
    {
      "cell_type": "code",
      "source": [
        "[       x               for x in range( 1,1001)                if x < 6       ]"
      ],
      "metadata": {
        "colab": {
          "base_uri": "https://localhost:8080/"
        },
        "id": "rFHezzJ-5C_T",
        "outputId": "16bb4612-2c29-44e7-9521-7f31a241f6e3"
      },
      "execution_count": null,
      "outputs": [
        {
          "output_type": "execute_result",
          "data": {
            "text/plain": [
              "[1, 2, 3, 4, 5]"
            ]
          },
          "metadata": {},
          "execution_count": 11
        }
      ]
    },
    {
      "cell_type": "code",
      "source": [
        "# another example"
      ],
      "metadata": {
        "id": "keeH7eML5F0h"
      },
      "execution_count": null,
      "outputs": []
    },
    {
      "cell_type": "code",
      "source": [
        "[ x             for x in range(1,21)     if x%2==0  ]"
      ],
      "metadata": {
        "colab": {
          "base_uri": "https://localhost:8080/"
        },
        "id": "L55ErGTb5b-J",
        "outputId": "d3282a71-a091-4fab-fd9d-04733f6999fa"
      },
      "execution_count": null,
      "outputs": [
        {
          "output_type": "execute_result",
          "data": {
            "text/plain": [
              "[2, 4, 6, 8, 10, 12, 14, 16, 18, 20]"
            ]
          },
          "metadata": {},
          "execution_count": 13
        }
      ]
    },
    {
      "cell_type": "code",
      "source": [],
      "metadata": {
        "id": "1GixnSAd5eTx"
      },
      "execution_count": null,
      "outputs": []
    },
    {
      "cell_type": "code",
      "source": [
        "# here is the syntax of adding if-else in comprehension"
      ],
      "metadata": {
        "id": "c_pBU-Um5ykD"
      },
      "execution_count": null,
      "outputs": []
    },
    {
      "cell_type": "code",
      "source": [
        "#  [      <ifResult>     <ifCondition>       <else>      <elseResult>             <loop>              ]"
      ],
      "metadata": {
        "id": "SwMHaD9f51vg"
      },
      "execution_count": null,
      "outputs": []
    },
    {
      "cell_type": "code",
      "source": [],
      "metadata": {
        "id": "tPj5-OVU573T"
      },
      "execution_count": null,
      "outputs": []
    },
    {
      "cell_type": "code",
      "source": [
        "[         'even'           if x%2==0        else            'odd'             for x in range(1,6)      ]"
      ],
      "metadata": {
        "colab": {
          "base_uri": "https://localhost:8080/"
        },
        "id": "W7HLrcv05-Sy",
        "outputId": "1430e93b-169d-43d0-e187-53f5a04dcbf5"
      },
      "execution_count": null,
      "outputs": [
        {
          "output_type": "execute_result",
          "data": {
            "text/plain": [
              "['odd', 'even', 'odd', 'even', 'odd']"
            ]
          },
          "metadata": {},
          "execution_count": 15
        }
      ]
    },
    {
      "cell_type": "code",
      "source": [],
      "metadata": {
        "id": "j6ln0tYA6Gl9"
      },
      "execution_count": null,
      "outputs": []
    },
    {
      "cell_type": "code",
      "source": [],
      "metadata": {
        "id": "JJduOi_r7EiN"
      },
      "execution_count": null,
      "outputs": []
    },
    {
      "cell_type": "markdown",
      "source": [
        "## Comprehension + Data\n",
        "----"
      ],
      "metadata": {
        "id": "FjOJSPHg7FE0"
      }
    },
    {
      "cell_type": "code",
      "source": [
        "colors = [ 'orange' , 'cyan' ,'indigo' ,'blue','amber']"
      ],
      "metadata": {
        "id": "Rl42t-SH7GAJ"
      },
      "execution_count": null,
      "outputs": []
    },
    {
      "cell_type": "code",
      "source": [],
      "metadata": {
        "id": "LLgVurf77ZiI"
      },
      "execution_count": null,
      "outputs": []
    },
    {
      "cell_type": "code",
      "source": [
        "for c in colors :\n",
        "\n",
        "  print ( c )"
      ],
      "metadata": {
        "id": "IMJeQqZ57WJs"
      },
      "execution_count": null,
      "outputs": []
    },
    {
      "cell_type": "code",
      "source": [
        "# above expression can be written as\n",
        "\n",
        "[          c                        for c in colors     ]"
      ],
      "metadata": {
        "colab": {
          "base_uri": "https://localhost:8080/"
        },
        "id": "MueQDRpN8Uvi",
        "outputId": "ecc0ab0e-5dd5-458e-d1c1-0a1f47338426"
      },
      "execution_count": null,
      "outputs": [
        {
          "output_type": "execute_result",
          "data": {
            "text/plain": [
              "['orange', 'cyan', 'indigo', 'blue', 'amber']"
            ]
          },
          "metadata": {},
          "execution_count": 17
        }
      ]
    },
    {
      "cell_type": "code",
      "source": [],
      "metadata": {
        "id": "OnBtCzSI8XSD"
      },
      "execution_count": null,
      "outputs": []
    },
    {
      "cell_type": "code",
      "source": [
        "# what is the datatype of variable c ?       right answer gets iphone from oppo!\n",
        "# answer: string"
      ],
      "metadata": {
        "id": "NAE0biZE8eSt"
      },
      "execution_count": null,
      "outputs": []
    },
    {
      "cell_type": "code",
      "source": [
        "# above expression can be written as\n",
        "\n",
        "[          type(c)                        for c in colors     ]"
      ],
      "metadata": {
        "colab": {
          "base_uri": "https://localhost:8080/"
        },
        "id": "F0gadp9E8nRx",
        "outputId": "29909886-1b15-4443-e4f3-0b02b5c4f5cc"
      },
      "execution_count": null,
      "outputs": [
        {
          "output_type": "execute_result",
          "data": {
            "text/plain": [
              "[str, str, str, str, str]"
            ]
          },
          "metadata": {},
          "execution_count": 18
        }
      ]
    },
    {
      "cell_type": "code",
      "source": [],
      "metadata": {
        "id": "L79fCKQs8pYd"
      },
      "execution_count": null,
      "outputs": []
    },
    {
      "cell_type": "markdown",
      "source": [
        "# I know how to work with String , do you also know ?"
      ],
      "metadata": {
        "id": "R9Vc6dwb8w69"
      }
    },
    {
      "cell_type": "code",
      "source": [
        "# first character\n",
        "\n",
        "[          c[0]                        for c in colors     ]"
      ],
      "metadata": {
        "colab": {
          "base_uri": "https://localhost:8080/"
        },
        "id": "Qa_tb0pI8wpf",
        "outputId": "5da40bb1-c2ba-4b67-ab17-bfa3b6245971"
      },
      "execution_count": null,
      "outputs": [
        {
          "output_type": "execute_result",
          "data": {
            "text/plain": [
              "['o', 'c', 'i', 'b', 'a']"
            ]
          },
          "metadata": {},
          "execution_count": 19
        }
      ]
    },
    {
      "cell_type": "code",
      "source": [
        "# last character\n",
        "[          c[-1]                        for c in colors     ]"
      ],
      "metadata": {
        "colab": {
          "base_uri": "https://localhost:8080/"
        },
        "id": "vTaNOK378594",
        "outputId": "bbd0f865-10af-4069-b929-8db1bb5d2830"
      },
      "execution_count": null,
      "outputs": [
        {
          "output_type": "execute_result",
          "data": {
            "text/plain": [
              "['e', 'n', 'o', 'e', 'r']"
            ]
          },
          "metadata": {},
          "execution_count": 20
        }
      ]
    },
    {
      "cell_type": "code",
      "source": [
        "# all upper case\n",
        "\n",
        "[          c.upper()                        for c in colors     ]"
      ],
      "metadata": {
        "colab": {
          "base_uri": "https://localhost:8080/"
        },
        "id": "hJBtrsHd8-4H",
        "outputId": "7a69936f-e1b9-4239-8d71-356a6c436252"
      },
      "execution_count": null,
      "outputs": [
        {
          "output_type": "execute_result",
          "data": {
            "text/plain": [
              "['ORANGE', 'CYAN', 'INDIGO', 'BLUE', 'AMBER']"
            ]
          },
          "metadata": {},
          "execution_count": 21
        }
      ]
    },
    {
      "cell_type": "code",
      "source": [
        "# all reverse\n",
        "\n",
        "[          c[::-1]                        for c in colors     ]"
      ],
      "metadata": {
        "colab": {
          "base_uri": "https://localhost:8080/"
        },
        "id": "kx1sujx-9BJi",
        "outputId": "3c4e1fb2-4c03-4510-c48f-b55f06df7e93"
      },
      "execution_count": null,
      "outputs": [
        {
          "output_type": "execute_result",
          "data": {
            "text/plain": [
              "['egnaro', 'nayc', 'ogidni', 'eulb', 'rebma']"
            ]
          },
          "metadata": {},
          "execution_count": 22
        }
      ]
    },
    {
      "cell_type": "code",
      "source": [
        "# only colors starting with vowel\n",
        "[          c                        for c in colors     if c[0] in 'aeiou' ]"
      ],
      "metadata": {
        "colab": {
          "base_uri": "https://localhost:8080/"
        },
        "id": "nIrNSf6-9DSG",
        "outputId": "0cfb90e1-b09b-4150-815c-e18e9307dfe5"
      },
      "execution_count": null,
      "outputs": [
        {
          "output_type": "execute_result",
          "data": {
            "text/plain": [
              "['orange', 'indigo', 'amber']"
            ]
          },
          "metadata": {},
          "execution_count": 23
        }
      ]
    },
    {
      "cell_type": "code",
      "source": [],
      "metadata": {
        "id": "YQF6f5er9Gcq"
      },
      "execution_count": null,
      "outputs": []
    },
    {
      "cell_type": "code",
      "source": [
        "'apple'[::-1]"
      ],
      "metadata": {
        "colab": {
          "base_uri": "https://localhost:8080/",
          "height": 35
        },
        "id": "DkznQHWh9dOe",
        "outputId": "217be27a-2dbe-4212-95be-10d7a6003509"
      },
      "execution_count": null,
      "outputs": [
        {
          "output_type": "execute_result",
          "data": {
            "text/plain": [
              "'elppa'"
            ],
            "application/vnd.google.colaboratory.intrinsic+json": {
              "type": "string"
            }
          },
          "metadata": {},
          "execution_count": 24
        }
      ]
    },
    {
      "cell_type": "code",
      "source": [
        "answer= [          c.upper()                        for c in colors     ]"
      ],
      "metadata": {
        "id": "08FOFfVk9fm_"
      },
      "execution_count": null,
      "outputs": []
    },
    {
      "cell_type": "code",
      "source": [
        "answer"
      ],
      "metadata": {
        "colab": {
          "base_uri": "https://localhost:8080/"
        },
        "id": "0dyZOi_a9mH3",
        "outputId": "605f0598-87a5-436e-81dd-7532e424fd0e"
      },
      "execution_count": null,
      "outputs": [
        {
          "output_type": "execute_result",
          "data": {
            "text/plain": [
              "['ORANGE', 'CYAN', 'INDIGO', 'BLUE', 'AMBER']"
            ]
          },
          "metadata": {},
          "execution_count": 26
        }
      ]
    },
    {
      "cell_type": "code",
      "source": [],
      "metadata": {
        "id": "YzYAR59b9mX7"
      },
      "execution_count": null,
      "outputs": []
    },
    {
      "cell_type": "markdown",
      "source": [
        "# Activity that helps build Confidene\n",
        "----"
      ],
      "metadata": {
        "id": "x3k_5F7p-NoZ"
      }
    },
    {
      "cell_type": "code",
      "source": [
        "playerWeights= [ 110 , 220 , 140 ,160 ,210 ]      # these are player weights in Pounds\n",
        "\n",
        "\n",
        "# use comprehension to convert weights from Pounds to Kilograms"
      ],
      "metadata": {
        "id": "z2-x_p8L-PVh"
      },
      "execution_count": null,
      "outputs": []
    },
    {
      "cell_type": "code",
      "source": [
        "# answer\n",
        "\n",
        "[   weight * 0.45                            for weight in playerWeights       ]"
      ],
      "metadata": {
        "colab": {
          "base_uri": "https://localhost:8080/"
        },
        "id": "UHXh6s0c-Zjo",
        "outputId": "fd7976bf-beb4-44fd-a178-80e21679395d"
      },
      "execution_count": null,
      "outputs": [
        {
          "output_type": "execute_result",
          "data": {
            "text/plain": [
              "[49.5, 99.0, 63.0, 72.0, 94.5]"
            ]
          },
          "metadata": {},
          "execution_count": 28
        }
      ]
    },
    {
      "cell_type": "code",
      "source": [],
      "metadata": {
        "id": "ynAcKr4v--xy"
      },
      "execution_count": null,
      "outputs": []
    },
    {
      "cell_type": "code",
      "source": [
        "# you are asked to Filter only Veg Items\n",
        "\n",
        "foodMenu = [ ('veg','paneer')  , ('nonveg' ,'fish') , ('veg','frenchfries') , ('veg','cajun') ,('nonveg','crab')]"
      ],
      "metadata": {
        "id": "QCkT76I4_Hnf"
      },
      "execution_count": null,
      "outputs": []
    },
    {
      "cell_type": "code",
      "source": [
        "foodMenu"
      ],
      "metadata": {
        "colab": {
          "base_uri": "https://localhost:8080/"
        },
        "id": "KR8p5yJk_T9Q",
        "outputId": "569b0f5b-4c15-4eb5-c51f-9dca003c0d6d"
      },
      "execution_count": null,
      "outputs": [
        {
          "output_type": "execute_result",
          "data": {
            "text/plain": [
              "[('veg', 'paneer'),\n",
              " ('nonveg', 'fish'),\n",
              " ('veg', 'frenchfries'),\n",
              " ('veg', 'cajun'),\n",
              " ('nonveg', 'crab')]"
            ]
          },
          "metadata": {},
          "execution_count": 30
        }
      ]
    },
    {
      "cell_type": "code",
      "source": [
        "# Objective: Print Only Veg Item Names (exclude 'veg' from output)"
      ],
      "metadata": {
        "id": "6Vp5t2Ey_U5j"
      },
      "execution_count": null,
      "outputs": []
    },
    {
      "cell_type": "code",
      "source": [
        "[       tup               for tup in foodMenu        ]"
      ],
      "metadata": {
        "colab": {
          "base_uri": "https://localhost:8080/"
        },
        "id": "HHr56DBB_YaG",
        "outputId": "368d57b6-8fee-431b-ed5a-8d1240a59cc5"
      },
      "execution_count": null,
      "outputs": [
        {
          "output_type": "execute_result",
          "data": {
            "text/plain": [
              "[('veg', 'paneer'),\n",
              " ('nonveg', 'fish'),\n",
              " ('veg', 'frenchfries'),\n",
              " ('veg', 'cajun'),\n",
              " ('nonveg', 'crab')]"
            ]
          },
          "metadata": {},
          "execution_count": 33
        }
      ]
    },
    {
      "cell_type": "code",
      "source": [
        "# tup[0] is either 'veg' or 'nonveg'"
      ],
      "metadata": {
        "id": "N6PWi6nY_-ka"
      },
      "execution_count": null,
      "outputs": []
    },
    {
      "cell_type": "code",
      "source": [
        "[       tup               for tup in foodMenu     if tup[0] == 'veg'    ]"
      ],
      "metadata": {
        "colab": {
          "base_uri": "https://localhost:8080/"
        },
        "id": "Dqq-yN08AHDw",
        "outputId": "fdc6a04f-c777-4db0-85cf-642dfcd84c34"
      },
      "execution_count": null,
      "outputs": [
        {
          "output_type": "execute_result",
          "data": {
            "text/plain": [
              "[('veg', 'paneer'), ('veg', 'frenchfries'), ('veg', 'cajun')]"
            ]
          },
          "metadata": {},
          "execution_count": 34
        }
      ]
    },
    {
      "cell_type": "code",
      "source": [],
      "metadata": {
        "id": "-Ku5J6j6AI1D"
      },
      "execution_count": null,
      "outputs": []
    },
    {
      "cell_type": "code",
      "source": [
        "[       tup[1]               for tup in foodMenu     if tup[0] == 'veg'    ]"
      ],
      "metadata": {
        "colab": {
          "base_uri": "https://localhost:8080/"
        },
        "id": "fQW-w1cFAQS1",
        "outputId": "48929907-c79c-49d6-f1cb-a8d699be9d89"
      },
      "execution_count": null,
      "outputs": [
        {
          "output_type": "execute_result",
          "data": {
            "text/plain": [
              "['paneer', 'frenchfries', 'cajun']"
            ]
          },
          "metadata": {},
          "execution_count": 35
        }
      ]
    },
    {
      "cell_type": "code",
      "source": [],
      "metadata": {
        "id": "txLIYaxBARFq"
      },
      "execution_count": null,
      "outputs": []
    },
    {
      "cell_type": "markdown",
      "source": [
        "# Dictionary Comprehension\n",
        "---"
      ],
      "metadata": {
        "id": "Jbte46wnAgTM"
      }
    },
    {
      "cell_type": "code",
      "source": [
        "# Syntax\n",
        "\n",
        "{          Key  :   Value                   <Loop>                    }"
      ],
      "metadata": {
        "id": "-v00GocFAhry"
      },
      "execution_count": null,
      "outputs": []
    },
    {
      "cell_type": "code",
      "source": [
        "{          x    :   '🐼'                   for x in range( 1, 6)      }"
      ],
      "metadata": {
        "colab": {
          "base_uri": "https://localhost:8080/"
        },
        "id": "2BlP8UBgAlHg",
        "outputId": "674434fa-8495-479b-906e-030fce4fcca0"
      },
      "execution_count": null,
      "outputs": [
        {
          "output_type": "execute_result",
          "data": {
            "text/plain": [
              "{1: '🐼', 2: '🐼', 3: '🐼', 4: '🐼', 5: '🐼'}"
            ]
          },
          "metadata": {},
          "execution_count": 36
        }
      ]
    },
    {
      "cell_type": "code",
      "source": [],
      "metadata": {
        "id": "R2FFyl9AAtw4"
      },
      "execution_count": null,
      "outputs": []
    },
    {
      "cell_type": "code",
      "source": [],
      "metadata": {
        "id": "pJa60X2QAunS"
      },
      "execution_count": null,
      "outputs": []
    },
    {
      "cell_type": "code",
      "source": [
        "{          x    :   x                   for x in range( 1, 6)      }"
      ],
      "metadata": {
        "colab": {
          "base_uri": "https://localhost:8080/"
        },
        "id": "ODvO73V4Auke",
        "outputId": "39e8305f-fbea-4d56-a01c-018d81c7038c"
      },
      "execution_count": null,
      "outputs": [
        {
          "output_type": "execute_result",
          "data": {
            "text/plain": [
              "{1: 1, 2: 2, 3: 3, 4: 4, 5: 5}"
            ]
          },
          "metadata": {},
          "execution_count": 37
        }
      ]
    },
    {
      "cell_type": "code",
      "source": [],
      "metadata": {
        "id": "a4_dKgAvBW7J"
      },
      "execution_count": null,
      "outputs": []
    },
    {
      "cell_type": "code",
      "source": [
        "{          x    :   x*x                   for x in range( 1, 6)      }"
      ],
      "metadata": {
        "colab": {
          "base_uri": "https://localhost:8080/"
        },
        "id": "hODUumGGBXm5",
        "outputId": "d173a6ff-6504-4997-f37a-85617a520a24"
      },
      "execution_count": null,
      "outputs": [
        {
          "output_type": "execute_result",
          "data": {
            "text/plain": [
              "{1: 1, 2: 4, 3: 9, 4: 16, 5: 25}"
            ]
          },
          "metadata": {},
          "execution_count": 38
        }
      ]
    },
    {
      "cell_type": "code",
      "source": [],
      "metadata": {
        "id": "uUIvhOqpBckA"
      },
      "execution_count": null,
      "outputs": []
    },
    {
      "cell_type": "code",
      "source": [
        "[ c            for c in colors ]"
      ],
      "metadata": {
        "colab": {
          "base_uri": "https://localhost:8080/"
        },
        "id": "V5HcAaZmBt3p",
        "outputId": "15e3dbf0-224a-4033-c802-2e89a3c7c990"
      },
      "execution_count": null,
      "outputs": [
        {
          "output_type": "execute_result",
          "data": {
            "text/plain": [
              "['orange', 'cyan', 'indigo', 'blue', 'amber']"
            ]
          },
          "metadata": {},
          "execution_count": 39
        }
      ]
    },
    {
      "cell_type": "code",
      "source": [],
      "metadata": {
        "id": "beNaBJAEBvpb"
      },
      "execution_count": null,
      "outputs": []
    },
    {
      "cell_type": "code",
      "source": [
        "{       c    :  c                      for c in colors }"
      ],
      "metadata": {
        "colab": {
          "base_uri": "https://localhost:8080/"
        },
        "id": "23bCi7ZBBw8t",
        "outputId": "d771158c-42c7-440d-81ff-5cafbaed5441"
      },
      "execution_count": null,
      "outputs": [
        {
          "output_type": "execute_result",
          "data": {
            "text/plain": [
              "{'orange': 'orange',\n",
              " 'cyan': 'cyan',\n",
              " 'indigo': 'indigo',\n",
              " 'blue': 'blue',\n",
              " 'amber': 'amber'}"
            ]
          },
          "metadata": {},
          "execution_count": 40
        }
      ]
    },
    {
      "cell_type": "code",
      "source": [],
      "metadata": {
        "id": "qDqUasiTByrO"
      },
      "execution_count": null,
      "outputs": []
    },
    {
      "cell_type": "code",
      "source": [
        "{       c    :  len(c)                      for c in colors }"
      ],
      "metadata": {
        "colab": {
          "base_uri": "https://localhost:8080/"
        },
        "id": "97otDVfgB7dc",
        "outputId": "7db6b2f3-9a9a-4d78-b393-bb803f38f959"
      },
      "execution_count": null,
      "outputs": [
        {
          "output_type": "execute_result",
          "data": {
            "text/plain": [
              "{'orange': 6, 'cyan': 4, 'indigo': 6, 'blue': 4, 'amber': 5}"
            ]
          },
          "metadata": {},
          "execution_count": 41
        }
      ]
    },
    {
      "cell_type": "code",
      "source": [],
      "metadata": {
        "id": "3ghQvtWfB8tN"
      },
      "execution_count": null,
      "outputs": []
    },
    {
      "cell_type": "code",
      "source": [
        "playerWeights"
      ],
      "metadata": {
        "colab": {
          "base_uri": "https://localhost:8080/"
        },
        "id": "tJ4xvwdGCU3a",
        "outputId": "a110a7e7-1551-4df9-f169-ed14ac08ad04"
      },
      "execution_count": null,
      "outputs": [
        {
          "output_type": "execute_result",
          "data": {
            "text/plain": [
              "[110, 220, 140, 160, 210]"
            ]
          },
          "metadata": {},
          "execution_count": 42
        }
      ]
    },
    {
      "cell_type": "code",
      "source": [
        "# key :    weight in Pounds\n",
        "# value : weight in Kilograms"
      ],
      "metadata": {
        "id": "-SArMZyECVhO"
      },
      "execution_count": null,
      "outputs": []
    },
    {
      "cell_type": "code",
      "source": [
        "{ w  :      w *0.45                 for       w in playerWeights     }"
      ],
      "metadata": {
        "colab": {
          "base_uri": "https://localhost:8080/"
        },
        "id": "wweXPXURCYqA",
        "outputId": "463335d4-820b-4e70-9927-4a825c5f6cb0"
      },
      "execution_count": null,
      "outputs": [
        {
          "output_type": "execute_result",
          "data": {
            "text/plain": [
              "{110: 49.5, 220: 99.0, 140: 63.0, 160: 72.0, 210: 94.5}"
            ]
          },
          "metadata": {},
          "execution_count": 44
        }
      ]
    },
    {
      "cell_type": "code",
      "source": [],
      "metadata": {
        "id": "nHXzRJqIC8Qm"
      },
      "execution_count": null,
      "outputs": []
    },
    {
      "cell_type": "code",
      "source": [
        "# Practice Exercise:\n",
        "\n",
        "# you are provided with marks of  student\n",
        "\n",
        "marks =[ 71 , 29 , 84 , 41 , 29 ,87 ]"
      ],
      "metadata": {
        "id": "Msn7Kbq5DXEl"
      },
      "execution_count": null,
      "outputs": []
    },
    {
      "cell_type": "code",
      "source": [
        "# produce a dictionary where\n",
        "# key : score\n",
        "# value : 'Pass' or 'Fail'\n",
        "\n",
        "# note: any score > 45 is 'Pass' otherwise 'Fail'"
      ],
      "metadata": {
        "id": "0jSVKnIQDc5D"
      },
      "execution_count": null,
      "outputs": []
    },
    {
      "cell_type": "code",
      "source": [
        "# here is how the solution would look like\n",
        "# <ifResult> <ifCondition> <else> <elseResult>"
      ],
      "metadata": {
        "id": "_qTWngTHDiU0"
      },
      "execution_count": null,
      "outputs": []
    },
    {
      "cell_type": "code",
      "source": [
        "{\n",
        "    score : '😄'  if score>45 else '😭'                     for score in marks\n",
        "}"
      ],
      "metadata": {
        "colab": {
          "base_uri": "https://localhost:8080/"
        },
        "id": "Jb6q-E0wDrYl",
        "outputId": "f3c20d92-3684-4d69-b84f-b13868744330"
      },
      "execution_count": null,
      "outputs": [
        {
          "output_type": "execute_result",
          "data": {
            "text/plain": [
              "{71: '😄', 29: '😭', 84: '😄', 41: '😭', 87: '😄'}"
            ]
          },
          "metadata": {},
          "execution_count": 49
        }
      ]
    },
    {
      "cell_type": "code",
      "source": [],
      "metadata": {
        "id": "Clb2B9oaD1X0"
      },
      "execution_count": null,
      "outputs": []
    },
    {
      "cell_type": "code",
      "source": [],
      "metadata": {
        "id": "h-nufVbzEcUz"
      },
      "execution_count": null,
      "outputs": []
    },
    {
      "cell_type": "markdown",
      "source": [
        "# Functional Programming\n",
        "---\n",
        "<pre>\n",
        "```\n",
        "Functional Programming Promotes/Encourages Usage of\n",
        "Functions for Solving Questions/Problems.\n",
        "\n",
        "Functions Help us Split /Distribute the Coding\n",
        "Complexities into small Blocks/Chunks of CODE.\n",
        "\n",
        "Functions Promote CODE Resuablity."
      ],
      "metadata": {
        "id": "JlClc5OyEdCJ"
      }
    },
    {
      "cell_type": "code",
      "source": [],
      "metadata": {
        "id": "ZyB2ZRB1EcTk"
      },
      "execution_count": null,
      "outputs": []
    },
    {
      "cell_type": "markdown",
      "source": [
        "# Lambda Expression\n",
        "---\n",
        "\n",
        "What is a Lambda Expression ?\n",
        "\n",
        "answer: it is a One Liner FUNCTION in Python. 🐍"
      ],
      "metadata": {
        "id": "l_g05IbDFCne"
      }
    },
    {
      "cell_type": "code",
      "source": [
        "# what is the Syntax ?\n",
        "\n",
        "#funcName         =                lambda             <inputVariable>         :          <outputExpresion>"
      ],
      "metadata": {
        "id": "DUkBGOTZEcQC"
      },
      "execution_count": null,
      "outputs": []
    },
    {
      "cell_type": "code",
      "source": [],
      "metadata": {
        "id": "hP6YBt7EEcMO"
      },
      "execution_count": null,
      "outputs": []
    },
    {
      "cell_type": "code",
      "source": [
        "getSquare         =               lambda                  Num                 :               Num * Num"
      ],
      "metadata": {
        "id": "vC3gw8mwFVQX"
      },
      "execution_count": null,
      "outputs": []
    },
    {
      "cell_type": "code",
      "source": [],
      "metadata": {
        "id": "0VrkwS74FYXo"
      },
      "execution_count": null,
      "outputs": []
    },
    {
      "cell_type": "code",
      "source": [
        "# here i am calling Lambda Function\n",
        "\n",
        "getSquare( 7 )"
      ],
      "metadata": {
        "colab": {
          "base_uri": "https://localhost:8080/"
        },
        "id": "6YzDUfOHFZYf",
        "outputId": "250c26e6-f281-4572-fa94-3b51ba933a97"
      },
      "execution_count": null,
      "outputs": [
        {
          "output_type": "execute_result",
          "data": {
            "text/plain": [
              "49"
            ]
          },
          "metadata": {},
          "execution_count": 51
        }
      ]
    },
    {
      "cell_type": "code",
      "source": [],
      "metadata": {
        "id": "nDDYxJzrFkSO"
      },
      "execution_count": null,
      "outputs": []
    },
    {
      "cell_type": "code",
      "source": [
        "## let us use Lambda expression to simulate Force formula in Physics"
      ],
      "metadata": {
        "id": "x-SV8QI3Go7m"
      },
      "execution_count": null,
      "outputs": []
    },
    {
      "cell_type": "code",
      "source": [
        "# what is the Syntax ?\n",
        "\n",
        "#funcName         =                lambda             <inputVariable>         :          <outputExpresion>"
      ],
      "metadata": {
        "id": "Bhk2s8YSGrrz"
      },
      "execution_count": null,
      "outputs": []
    },
    {
      "cell_type": "code",
      "source": [
        "getForce          =                lambda             mass , acc              :              mass * acc"
      ],
      "metadata": {
        "id": "jJBaxAFlGwyB"
      },
      "execution_count": null,
      "outputs": []
    },
    {
      "cell_type": "code",
      "source": [],
      "metadata": {
        "id": "AdnkfhQPG0du"
      },
      "execution_count": null,
      "outputs": []
    },
    {
      "cell_type": "code",
      "source": [
        "getForce( 5600 , 9.8 )"
      ],
      "metadata": {
        "colab": {
          "base_uri": "https://localhost:8080/"
        },
        "id": "3SC1LHOvG0rD",
        "outputId": "441ee9b4-9287-4038-d9a7-f28da89a1a4b"
      },
      "execution_count": null,
      "outputs": [
        {
          "output_type": "execute_result",
          "data": {
            "text/plain": [
              "54880.00000000001"
            ]
          },
          "metadata": {},
          "execution_count": 54
        }
      ]
    },
    {
      "cell_type": "code",
      "source": [],
      "metadata": {
        "id": "DJUclY5ZG3zz"
      },
      "execution_count": null,
      "outputs": []
    },
    {
      "cell_type": "code",
      "source": [
        "# Let us learn the LOGIC"
      ],
      "metadata": {
        "id": "U5rVV2_CJKet"
      },
      "execution_count": null,
      "outputs": []
    },
    {
      "cell_type": "code",
      "source": [
        "fullName =\"Robert Downey Junior\""
      ],
      "metadata": {
        "id": "17gJjb3rJNoi"
      },
      "execution_count": null,
      "outputs": []
    },
    {
      "cell_type": "code",
      "source": [
        "fullName.split()"
      ],
      "metadata": {
        "colab": {
          "base_uri": "https://localhost:8080/"
        },
        "id": "ip1s_w3zJQ2M",
        "outputId": "f15a0e4b-6383-4620-ab82-12b8d4648f42"
      },
      "execution_count": null,
      "outputs": [
        {
          "output_type": "execute_result",
          "data": {
            "text/plain": [
              "['Robert', 'Downey', 'Junior']"
            ]
          },
          "metadata": {},
          "execution_count": 57
        }
      ]
    },
    {
      "cell_type": "code",
      "source": [
        "fullName.split()[-1]"
      ],
      "metadata": {
        "colab": {
          "base_uri": "https://localhost:8080/",
          "height": 35
        },
        "id": "yP2qx3uBJSCX",
        "outputId": "7d496c3e-26bf-4228-e007-16a3bdb09a87"
      },
      "execution_count": null,
      "outputs": [
        {
          "output_type": "execute_result",
          "data": {
            "text/plain": [
              "'Junior'"
            ],
            "application/vnd.google.colaboratory.intrinsic+json": {
              "type": "string"
            }
          },
          "metadata": {},
          "execution_count": 58
        }
      ]
    },
    {
      "cell_type": "code",
      "source": [
        "fullName[0]"
      ],
      "metadata": {
        "colab": {
          "base_uri": "https://localhost:8080/",
          "height": 35
        },
        "id": "MohC_zN1Jk-t",
        "outputId": "59a52175-f933-4ac2-bc4d-c87927d70632"
      },
      "execution_count": null,
      "outputs": [
        {
          "output_type": "execute_result",
          "data": {
            "text/plain": [
              "'R'"
            ],
            "application/vnd.google.colaboratory.intrinsic+json": {
              "type": "string"
            }
          },
          "metadata": {},
          "execution_count": 59
        }
      ]
    },
    {
      "cell_type": "code",
      "source": [
        "# lets combine the logic"
      ],
      "metadata": {
        "id": "Kvxy6LxrJrzc"
      },
      "execution_count": null,
      "outputs": []
    },
    {
      "cell_type": "code",
      "source": [],
      "metadata": {
        "id": "502h0fHnJ0h8"
      },
      "execution_count": null,
      "outputs": []
    },
    {
      "cell_type": "code",
      "source": [
        "getFormattedName =     lambda fullName :     fullName.split()[-1]+\".\"+fullName[0]"
      ],
      "metadata": {
        "id": "bcSQuJsiJ2Xk"
      },
      "execution_count": null,
      "outputs": []
    },
    {
      "cell_type": "code",
      "source": [
        "getFormattedName( \"Robert Downey Junior\")"
      ],
      "metadata": {
        "colab": {
          "base_uri": "https://localhost:8080/",
          "height": 35
        },
        "id": "6RN_v6uhJ66L",
        "outputId": "28e637e3-56bd-4382-be3d-946a8da3b750"
      },
      "execution_count": null,
      "outputs": [
        {
          "output_type": "execute_result",
          "data": {
            "text/plain": [
              "'Junior.R'"
            ],
            "application/vnd.google.colaboratory.intrinsic+json": {
              "type": "string"
            }
          },
          "metadata": {},
          "execution_count": 62
        }
      ]
    },
    {
      "cell_type": "code",
      "source": [],
      "metadata": {
        "id": "M2Th9GXPJ81d"
      },
      "execution_count": null,
      "outputs": []
    },
    {
      "cell_type": "markdown",
      "source": [
        "# Map()\n",
        "---\n",
        "Map Function Maps Each Element to a specified function thereby Producing a new result after Computing elements.\n",
        "\n",
        "What is the Syntax of MAP ?\n",
        "---\n",
        "map (      function      ,        data )"
      ],
      "metadata": {
        "id": "Sn0y6zGWO1nD"
      }
    },
    {
      "cell_type": "code",
      "source": [
        "# let us understand the map function by finding the  square of  4 , 1 , 3 , 2 , 5"
      ],
      "metadata": {
        "id": "TBjK3bfdPBKF"
      },
      "execution_count": null,
      "outputs": []
    },
    {
      "cell_type": "code",
      "source": [
        "# Data\n",
        "\n",
        "[ 4 , 1 , 3 , 2 ,  5 ]"
      ],
      "metadata": {
        "id": "aZsctOVUPIu7"
      },
      "execution_count": null,
      "outputs": []
    },
    {
      "cell_type": "code",
      "source": [
        "# Function\n",
        "lambda    N :      N * N"
      ],
      "metadata": {
        "id": "HhMisXg0PLdg"
      },
      "execution_count": null,
      "outputs": []
    },
    {
      "cell_type": "code",
      "source": [],
      "metadata": {
        "id": "AoXfn0amPNlD"
      },
      "execution_count": null,
      "outputs": []
    },
    {
      "cell_type": "code",
      "source": [
        "map(        lambda N  : N*N      ,     [ 4 , 1 , 3 , 2, 5]     )"
      ],
      "metadata": {
        "colab": {
          "base_uri": "https://localhost:8080/"
        },
        "id": "VYb_tg2OPN3X",
        "outputId": "42206152-4d63-46e6-aa04-4fb30c895fb2"
      },
      "execution_count": null,
      "outputs": [
        {
          "output_type": "execute_result",
          "data": {
            "text/plain": [
              "<map at 0x781ad908afb0>"
            ]
          },
          "metadata": {},
          "execution_count": 63
        }
      ]
    },
    {
      "cell_type": "code",
      "source": [],
      "metadata": {
        "id": "wCKugRx4RNGd"
      },
      "execution_count": null,
      "outputs": []
    },
    {
      "cell_type": "code",
      "source": [
        "tuple(map(        lambda N  : N*N      ,     [ 4 , 1 , 3 , 2, 5]     ))"
      ],
      "metadata": {
        "colab": {
          "base_uri": "https://localhost:8080/"
        },
        "id": "R4eacM9JROSH",
        "outputId": "13e49dd1-9047-42a1-83ad-ec488c50e2c3"
      },
      "execution_count": null,
      "outputs": [
        {
          "output_type": "execute_result",
          "data": {
            "text/plain": [
              "(16, 1, 9, 4, 25)"
            ]
          },
          "metadata": {},
          "execution_count": 64
        }
      ]
    },
    {
      "cell_type": "code",
      "source": [],
      "metadata": {
        "id": "lrZ7sR3ERdGS"
      },
      "execution_count": null,
      "outputs": []
    },
    {
      "cell_type": "code",
      "source": [
        "set(map(        lambda N  : N*N      ,     [ 4 , 1 , 3 , 2, 5]     ))"
      ],
      "metadata": {
        "colab": {
          "base_uri": "https://localhost:8080/"
        },
        "id": "6KTgTzZGRd2P",
        "outputId": "ed2a861d-082e-4fd8-f10f-887b564aee98"
      },
      "execution_count": null,
      "outputs": [
        {
          "output_type": "execute_result",
          "data": {
            "text/plain": [
              "{1, 4, 9, 16, 25}"
            ]
          },
          "metadata": {},
          "execution_count": 65
        }
      ]
    },
    {
      "cell_type": "code",
      "source": [],
      "metadata": {
        "id": "JsvcoNRqRfQ6"
      },
      "execution_count": null,
      "outputs": []
    },
    {
      "cell_type": "code",
      "source": [
        "dict(map(        lambda N  : (N,N*N)      ,     [ 4 , 1 , 3 , 2, 5]     ))"
      ],
      "metadata": {
        "colab": {
          "base_uri": "https://localhost:8080/"
        },
        "id": "7mWmVJoxRf3O",
        "outputId": "0691da61-632a-4ff0-fd98-3ea7e5af5876"
      },
      "execution_count": null,
      "outputs": [
        {
          "output_type": "execute_result",
          "data": {
            "text/plain": [
              "{4: 16, 1: 1, 3: 9, 2: 4, 5: 25}"
            ]
          },
          "metadata": {},
          "execution_count": 66
        }
      ]
    },
    {
      "cell_type": "code",
      "source": [],
      "metadata": {
        "id": "641UYoffRhvU"
      },
      "execution_count": null,
      "outputs": []
    },
    {
      "cell_type": "code",
      "source": [
        "list(map(        lambda N  : N*N      ,     [ 4 , 1 , 3 , 2, 5]     ))"
      ],
      "metadata": {
        "colab": {
          "base_uri": "https://localhost:8080/"
        },
        "id": "ZtaFNkj9RiVF",
        "outputId": "483cf279-6b74-41da-faf8-952685f50ef0"
      },
      "execution_count": null,
      "outputs": [
        {
          "output_type": "execute_result",
          "data": {
            "text/plain": [
              "[16, 1, 9, 4, 25]"
            ]
          },
          "metadata": {},
          "execution_count": 67
        }
      ]
    },
    {
      "cell_type": "code",
      "source": [],
      "metadata": {
        "id": "thCTnmg2RjGU"
      },
      "execution_count": null,
      "outputs": []
    },
    {
      "cell_type": "code",
      "source": [],
      "metadata": {
        "id": "-MnYvxb1RxfC"
      },
      "execution_count": null,
      "outputs": []
    },
    {
      "cell_type": "code",
      "source": [
        "colors"
      ],
      "metadata": {
        "colab": {
          "base_uri": "https://localhost:8080/"
        },
        "id": "Os1tlDvxRxZm",
        "outputId": "57042e66-b17c-4b4d-96d6-628a247abc19"
      },
      "execution_count": null,
      "outputs": [
        {
          "output_type": "execute_result",
          "data": {
            "text/plain": [
              "['orange', 'cyan', 'indigo', 'blue', 'amber']"
            ]
          },
          "metadata": {},
          "execution_count": 68
        }
      ]
    },
    {
      "cell_type": "code",
      "source": [],
      "metadata": {
        "id": "1cXOxzEeRxVi"
      },
      "execution_count": null,
      "outputs": []
    },
    {
      "cell_type": "code",
      "source": [
        "list( map (           len               ,                colors        ))"
      ],
      "metadata": {
        "colab": {
          "base_uri": "https://localhost:8080/"
        },
        "id": "vdOX_lsuRxO5",
        "outputId": "69321c84-20de-441c-f506-ee095379bcb4"
      },
      "execution_count": null,
      "outputs": [
        {
          "output_type": "execute_result",
          "data": {
            "text/plain": [
              "[6, 4, 6, 4, 5]"
            ]
          },
          "metadata": {},
          "execution_count": 69
        }
      ]
    },
    {
      "cell_type": "code",
      "source": [],
      "metadata": {
        "id": "T0tdluXaR1t9"
      },
      "execution_count": null,
      "outputs": []
    },
    {
      "cell_type": "code",
      "source": [
        "dirtyData = ['2.5' , '5.22'  , '6.7']"
      ],
      "metadata": {
        "id": "lqi9MelyR-Xm"
      },
      "execution_count": null,
      "outputs": []
    },
    {
      "cell_type": "code",
      "source": [],
      "metadata": {
        "id": "eWfkHpz2SBrz"
      },
      "execution_count": null,
      "outputs": []
    },
    {
      "cell_type": "code",
      "source": [
        "list(map (                 float ,            dirtyData        ))"
      ],
      "metadata": {
        "colab": {
          "base_uri": "https://localhost:8080/"
        },
        "id": "aS5tIx98SCC6",
        "outputId": "7cec7c0b-c8f5-4b95-ee05-248809ab6479"
      },
      "execution_count": null,
      "outputs": [
        {
          "output_type": "execute_result",
          "data": {
            "text/plain": [
              "[2.5, 5.22, 6.7]"
            ]
          },
          "metadata": {},
          "execution_count": 71
        }
      ]
    },
    {
      "cell_type": "code",
      "source": [],
      "metadata": {
        "id": "HfmPvEAASD_W"
      },
      "execution_count": null,
      "outputs": []
    },
    {
      "cell_type": "code",
      "source": [
        "# you are provided with the prices of some Products\n",
        "\n",
        "productPrices =  [  140 , 220 , 180, 250 , 320 ]"
      ],
      "metadata": {
        "id": "HBxPRluWSTaR"
      },
      "execution_count": null,
      "outputs": []
    },
    {
      "cell_type": "code",
      "source": [
        "# Phase 1 : Try to find the 18% GST of each Product"
      ],
      "metadata": {
        "id": "IT1I8YavSTd2"
      },
      "execution_count": null,
      "outputs": []
    },
    {
      "cell_type": "code",
      "source": [
        "# Phase 2 : Try to Find the Final MRP of Each Product After Adding 18% GST."
      ],
      "metadata": {
        "id": "J6RAKn7ISThe"
      },
      "execution_count": null,
      "outputs": []
    },
    {
      "cell_type": "code",
      "source": [
        "# solution 1:\n",
        "\n",
        "GST = list(  map ( lambda price : round( price * .18 ,2)     ,productPrices ) )"
      ],
      "metadata": {
        "id": "1zX3PUTiSTk0"
      },
      "execution_count": null,
      "outputs": []
    },
    {
      "cell_type": "code",
      "source": [
        "GST"
      ],
      "metadata": {
        "colab": {
          "base_uri": "https://localhost:8080/"
        },
        "id": "jhorqoUVSTn5",
        "outputId": "49043ece-8acf-4923-eb40-48eb343a6e34"
      },
      "execution_count": null,
      "outputs": [
        {
          "output_type": "execute_result",
          "data": {
            "text/plain": [
              "[25.2, 39.6, 32.4, 45.0, 57.6]"
            ]
          },
          "metadata": {},
          "execution_count": 88
        }
      ]
    },
    {
      "cell_type": "code",
      "source": [],
      "metadata": {
        "id": "c00CbPBKU12u"
      },
      "execution_count": null,
      "outputs": []
    },
    {
      "cell_type": "code",
      "source": [],
      "metadata": {
        "id": "AlQwV-FtU2H5"
      },
      "execution_count": null,
      "outputs": []
    },
    {
      "cell_type": "code",
      "source": [],
      "metadata": {
        "id": "Uw8mBNMlSTrN"
      },
      "execution_count": null,
      "outputs": []
    },
    {
      "cell_type": "code",
      "source": [
        "# Solution 2\n",
        "\n",
        "MRP = list(  map ( lambda price : ( round( price * .18 ,2)) + price     ,productPrices ) )\n",
        "MRP"
      ],
      "metadata": {
        "colab": {
          "base_uri": "https://localhost:8080/"
        },
        "id": "WEr5m5RZTloE",
        "outputId": "9a22b557-63a6-4626-cbea-cd2d73168cb2"
      },
      "execution_count": null,
      "outputs": [
        {
          "output_type": "execute_result",
          "data": {
            "text/plain": [
              "[165.2, 259.6, 212.4, 295.0, 377.6]"
            ]
          },
          "metadata": {},
          "execution_count": 89
        }
      ]
    },
    {
      "cell_type": "code",
      "source": [],
      "metadata": {
        "id": "zJB07GtLSTu9"
      },
      "execution_count": null,
      "outputs": []
    },
    {
      "cell_type": "code",
      "source": [],
      "metadata": {
        "id": "wtu3iPX2U3px"
      },
      "execution_count": null,
      "outputs": []
    },
    {
      "cell_type": "code",
      "source": [
        "GST"
      ],
      "metadata": {
        "colab": {
          "base_uri": "https://localhost:8080/"
        },
        "id": "HsjkyB6SU3n0",
        "outputId": "a0703d4d-5163-445a-95ff-66edd6f4d0de"
      },
      "execution_count": null,
      "outputs": [
        {
          "output_type": "execute_result",
          "data": {
            "text/plain": [
              "[25.2, 39.6, 32.4, 45.0, 57.6]"
            ]
          },
          "metadata": {},
          "execution_count": 90
        }
      ]
    },
    {
      "cell_type": "code",
      "source": [
        "productPrices"
      ],
      "metadata": {
        "colab": {
          "base_uri": "https://localhost:8080/"
        },
        "id": "5IsORIZXU3l0",
        "outputId": "1ce63928-8e5c-42a3-bea2-a05364dc2225"
      },
      "execution_count": null,
      "outputs": [
        {
          "output_type": "execute_result",
          "data": {
            "text/plain": [
              "[140, 220, 180, 250, 320]"
            ]
          },
          "metadata": {},
          "execution_count": 91
        }
      ]
    },
    {
      "cell_type": "code",
      "source": [],
      "metadata": {
        "id": "HEHIUJeWU3j8"
      },
      "execution_count": null,
      "outputs": []
    },
    {
      "cell_type": "code",
      "source": [
        "answer= map(  lambda     tax , price   :      tax+price     ,          GST , productPrices)"
      ],
      "metadata": {
        "id": "4nPyCOLBU7Mj"
      },
      "execution_count": null,
      "outputs": []
    },
    {
      "cell_type": "code",
      "source": [],
      "metadata": {
        "id": "WXehvTT2VAeU"
      },
      "execution_count": null,
      "outputs": []
    },
    {
      "cell_type": "code",
      "source": [
        "list(answer)"
      ],
      "metadata": {
        "colab": {
          "base_uri": "https://localhost:8080/"
        },
        "id": "2xDBBjuPVAol",
        "outputId": "e339d71a-5b4b-4d94-fcf6-8378ec1674ef"
      },
      "execution_count": null,
      "outputs": [
        {
          "output_type": "execute_result",
          "data": {
            "text/plain": [
              "[165.2, 259.6, 212.4, 295.0, 377.6]"
            ]
          },
          "metadata": {},
          "execution_count": 93
        }
      ]
    },
    {
      "cell_type": "code",
      "source": [],
      "metadata": {
        "id": "q7IdHbl8VBQp"
      },
      "execution_count": null,
      "outputs": []
    },
    {
      "cell_type": "code",
      "source": [],
      "metadata": {
        "id": "ZxtvNgV8V7uk"
      },
      "execution_count": null,
      "outputs": []
    },
    {
      "cell_type": "markdown",
      "source": [
        "# Filter Function\n",
        "---\n",
        "\n",
        "Filter is used to Extract the Subset of Original Data.\n",
        "\n",
        "Syntax:\n",
        "\n",
        "filter ( bool_function       ,     data  )"
      ],
      "metadata": {
        "id": "BN7eOnOhV8hV"
      }
    },
    {
      "cell_type": "code",
      "source": [],
      "metadata": {
        "id": "PfqL9wVxV7sV"
      },
      "execution_count": null,
      "outputs": []
    },
    {
      "cell_type": "code",
      "source": [
        "data= [ 5 , 7 , 2 , 4 , 1 , 3 , 8 ]"
      ],
      "metadata": {
        "id": "3UVouIzlV7pi"
      },
      "execution_count": null,
      "outputs": []
    },
    {
      "cell_type": "code",
      "source": [
        "# objective: to filter even numbers only"
      ],
      "metadata": {
        "id": "x1I1-rbAV7ct"
      },
      "execution_count": null,
      "outputs": []
    },
    {
      "cell_type": "code",
      "source": [
        "list(filter(            lambda N    :    N % 2 == 0        ,           data        ))"
      ],
      "metadata": {
        "colab": {
          "base_uri": "https://localhost:8080/"
        },
        "id": "12ZZ3oKHWa17",
        "outputId": "a67e1208-e1f7-4356-df40-f35a7b2e34ee"
      },
      "execution_count": null,
      "outputs": [
        {
          "output_type": "execute_result",
          "data": {
            "text/plain": [
              "[2, 4, 8]"
            ]
          },
          "metadata": {},
          "execution_count": 96
        }
      ]
    },
    {
      "cell_type": "code",
      "source": [],
      "metadata": {
        "id": "QtLzviVaWibW"
      },
      "execution_count": null,
      "outputs": []
    },
    {
      "cell_type": "code",
      "source": [
        "# Points to Note:\n",
        "                    # 1.      the outputExpr of Lambda must return a Bool Value.\n",
        "                    # 2.      Filter Function is designed to Return Element that Satisfies the\n",
        "                    #         specified Condition . (it doesnt return bool value.)"
      ],
      "metadata": {
        "id": "KQ5KomqhWpRq"
      },
      "execution_count": null,
      "outputs": []
    },
    {
      "cell_type": "code",
      "source": [],
      "metadata": {
        "id": "sOvjBqNoW_Rp"
      },
      "execution_count": null,
      "outputs": []
    },
    {
      "cell_type": "code",
      "source": [
        "colors"
      ],
      "metadata": {
        "colab": {
          "base_uri": "https://localhost:8080/"
        },
        "id": "jPIfeuqyXBlC",
        "outputId": "378880b6-d844-414e-f023-4e34e996bdf2"
      },
      "execution_count": null,
      "outputs": [
        {
          "output_type": "execute_result",
          "data": {
            "text/plain": [
              "['orange', 'cyan', 'indigo', 'blue', 'amber']"
            ]
          },
          "metadata": {},
          "execution_count": 98
        }
      ]
    },
    {
      "cell_type": "code",
      "source": [
        "list(filter(        lambda  c      :    c[0]    in 'aeiou'              , colors         ))"
      ],
      "metadata": {
        "colab": {
          "base_uri": "https://localhost:8080/"
        },
        "id": "egy0acycXCQ2",
        "outputId": "0297bb5b-2abc-4974-b5b3-5eae9fc695fc"
      },
      "execution_count": null,
      "outputs": [
        {
          "output_type": "execute_result",
          "data": {
            "text/plain": [
              "['orange', 'indigo', 'amber']"
            ]
          },
          "metadata": {},
          "execution_count": 99
        }
      ]
    },
    {
      "cell_type": "code",
      "source": [
        "'a' in 'apple'"
      ],
      "metadata": {
        "colab": {
          "base_uri": "https://localhost:8080/"
        },
        "id": "ar11KzxSXGUD",
        "outputId": "f297633e-7a6d-4c36-ea55-b32c0b7187b9"
      },
      "execution_count": null,
      "outputs": [
        {
          "output_type": "execute_result",
          "data": {
            "text/plain": [
              "True"
            ]
          },
          "metadata": {},
          "execution_count": 100
        }
      ]
    },
    {
      "cell_type": "code",
      "source": [
        "'b' in 'apple'"
      ],
      "metadata": {
        "colab": {
          "base_uri": "https://localhost:8080/"
        },
        "id": "LhRTEpgpXiOa",
        "outputId": "b961b42a-2ff9-4d6c-b745-b758201a67f5"
      },
      "execution_count": null,
      "outputs": [
        {
          "output_type": "execute_result",
          "data": {
            "text/plain": [
              "False"
            ]
          },
          "metadata": {},
          "execution_count": 101
        }
      ]
    },
    {
      "cell_type": "code",
      "source": [],
      "metadata": {
        "id": "sCfl0sMqXjyH"
      },
      "execution_count": null,
      "outputs": []
    },
    {
      "cell_type": "code",
      "source": [
        "# Try this\n"
      ],
      "metadata": {
        "id": "LETVbgDeX1mO"
      },
      "execution_count": null,
      "outputs": []
    },
    {
      "cell_type": "code",
      "source": [
        "foodMenu"
      ],
      "metadata": {
        "colab": {
          "base_uri": "https://localhost:8080/"
        },
        "id": "TmHBV56RX2WX",
        "outputId": "0f2c94a9-d511-439a-b084-82c0ee08fa67"
      },
      "execution_count": null,
      "outputs": [
        {
          "output_type": "execute_result",
          "data": {
            "text/plain": [
              "[('veg', 'paneer'),\n",
              " ('nonveg', 'fish'),\n",
              " ('veg', 'frenchfries'),\n",
              " ('veg', 'cajun'),\n",
              " ('nonveg', 'crab')]"
            ]
          },
          "metadata": {},
          "execution_count": 103
        }
      ]
    },
    {
      "cell_type": "code",
      "source": [
        "# use filter to extract only Veg Items"
      ],
      "metadata": {
        "id": "kqo0mvKmX2qa"
      },
      "execution_count": null,
      "outputs": []
    },
    {
      "cell_type": "code",
      "source": [
        "ans = list( filter( lambda tup : tup[0] == 'veg'       , foodMenu     ))"
      ],
      "metadata": {
        "id": "Yr85JOBcX4Pa"
      },
      "execution_count": null,
      "outputs": []
    },
    {
      "cell_type": "code",
      "source": [
        "ans"
      ],
      "metadata": {
        "colab": {
          "base_uri": "https://localhost:8080/"
        },
        "id": "j1GqzIzTYx9v",
        "outputId": "85dddcec-7b6f-477c-f4eb-8a82891ede3a"
      },
      "execution_count": null,
      "outputs": [
        {
          "output_type": "execute_result",
          "data": {
            "text/plain": [
              "[('veg', 'paneer'), ('veg', 'frenchfries'), ('veg', 'cajun')]"
            ]
          },
          "metadata": {},
          "execution_count": 106
        }
      ]
    },
    {
      "cell_type": "code",
      "source": [],
      "metadata": {
        "id": "xavVmFXdYyWf"
      },
      "execution_count": null,
      "outputs": []
    },
    {
      "cell_type": "code",
      "source": [
        "# i got dirty Data , can u help me find valuable items here\n",
        "\n",
        "\n",
        "dirtyData= [ 100, True, 200 , 'hello', False, 300]\n",
        "\n",
        "\n",
        "# objective: use filter to extract integers only.\n",
        "\n",
        "# i.e 100,200,300\n",
        "\n",
        "# hint : type()"
      ],
      "metadata": {
        "id": "7Q3cPOGeY9h5"
      },
      "execution_count": null,
      "outputs": []
    },
    {
      "cell_type": "code",
      "source": [
        "list(filter (        lambda element :        type(element) == int ,      dirtyData ))"
      ],
      "metadata": {
        "colab": {
          "base_uri": "https://localhost:8080/"
        },
        "id": "ICMY7bTqZFYU",
        "outputId": "876ca8a0-1426-465d-aaac-3e0ce14a9a31"
      },
      "execution_count": null,
      "outputs": [
        {
          "output_type": "execute_result",
          "data": {
            "text/plain": [
              "[100, 200, 300]"
            ]
          },
          "metadata": {},
          "execution_count": 109
        }
      ]
    },
    {
      "cell_type": "code",
      "source": [],
      "metadata": {
        "id": "QMehPGm1ZXD7"
      },
      "execution_count": null,
      "outputs": []
    }
  ]
}