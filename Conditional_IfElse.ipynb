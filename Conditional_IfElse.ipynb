{
  "cells": [
    {
      "cell_type": "markdown",
      "metadata": {
        "id": "view-in-github",
        "colab_type": "text"
      },
      "source": [
        "<a href=\"https://colab.research.google.com/github/samuelsushanth/machinelearninganddataanalysisprojects/blob/main/Conditional_IfElse.ipynb\" target=\"_parent\"><img src=\"https://colab.research.google.com/assets/colab-badge.svg\" alt=\"Open In Colab\"/></a>"
      ]
    },
    {
      "cell_type": "code",
      "execution_count": null,
      "metadata": {
        "colab": {
          "base_uri": "https://localhost:8080/"
        },
        "id": "iFTNsMjD4ZBj",
        "outputId": "b64989ee-0a9d-446b-be06-7a9c86ac964b"
      },
      "outputs": [
        {
          "name": "stdout",
          "output_type": "stream",
          "text": [
            "Enter your test score : 89\n"
          ]
        }
      ],
      "source": [
        "score = int(input(\"Enter your test score : \"))\n",
        "passing = 40\n",
        "distinction = 90\n"
      ]
    },
    {
      "cell_type": "code",
      "execution_count": null,
      "metadata": {
        "colab": {
          "base_uri": "https://localhost:8080/"
        },
        "id": "SYERq2Vv4ZBl",
        "outputId": "82430e2e-845a-4e47-9d53-52d456d99ca6"
      },
      "outputs": [
        {
          "output_type": "stream",
          "name": "stdout",
          "text": [
            "You have passed!\n"
          ]
        }
      ],
      "source": [
        "if score >= distinction:\n",
        "    print(\"You're at the top! You’ve earned a distinction!\")\n",
        "\n",
        "if score >= passing and score < distinction:\n",
        "    print(\"You have passed!\")\n",
        "\n",
        "if score < passing:\n",
        "    print(\"Sorry! You have failed\")\n"
      ]
    },
    {
      "cell_type": "code",
      "execution_count": null,
      "metadata": {
        "colab": {
          "base_uri": "https://localhost:8080/"
        },
        "id": "s3uF5fq34ZBm",
        "outputId": "c5ecb8c1-89c7-404d-b6a5-f6a45ea83def"
      },
      "outputs": [
        {
          "output_type": "stream",
          "name": "stdout",
          "text": [
            "First Class\n"
          ]
        }
      ],
      "source": [
        "if score==100:\n",
        "    print(\"Perfect\")\n",
        "elif  90<=score<100:\n",
        "    print(\"Distinction\")\n",
        "elif 65<=score<90:\n",
        "    print(\"First Class\")\n",
        "elif 40<=score<65:\n",
        "    print(\"Second Class\")\n",
        "else:\n",
        "    print(\"Failed\")\n"
      ]
    },
    {
      "cell_type": "code",
      "execution_count": null,
      "metadata": {
        "colab": {
          "base_uri": "https://localhost:8080/"
        },
        "id": "jxawGVW84ZBm",
        "outputId": "bffcffb2-f4f8-4721-e8e1-c2a191a2005f"
      },
      "outputs": [
        {
          "output_type": "stream",
          "name": "stdout",
          "text": [
            "Bad review!\n"
          ]
        }
      ],
      "source": [
        "statement = \"The coffee is bad\"\n",
        "if 'bad' in statement:\n",
        "    print(\"Bad review!\")\n",
        "\n",
        "statement2 = \"This phone works great\"\n",
        "if 'bad' in statement2:\n",
        "    print(\"This is not a bad review\")\n"
      ]
    },
    {
      "cell_type": "code",
      "execution_count": null,
      "metadata": {
        "id": "dGqQ1bvu4ZBn"
      },
      "outputs": [],
      "source": [
        "num = int(input(\"Enter a number: \"))\n",
        "#enter 24\n",
        "if num%2==0:\n",
        "    print(\"Even\")\n",
        "    if num%4==0:\n",
        "        print(\"divisible by 4\")\n",
        "    else:\n",
        "        print(\"Not divisible by 4\")\n",
        "else:\n",
        "    print(\"Odd\")\n",
        "    if num%3==0:\n",
        "        print(\"Divisible by 3\")\n",
        "    else:\n",
        "        print(\"Not divisible by 3\")\n"
      ]
    },
    {
      "cell_type": "code",
      "execution_count": null,
      "metadata": {
        "id": "usF0jOPV4ZBn"
      },
      "outputs": [],
      "source": [
        "if None:\n",
        "    print(\"Is True\")\n",
        "else:\n",
        "    print(\"Is False\")"
      ]
    },
    {
      "cell_type": "code",
      "source": [
        "d = {0: 'Fish', 1: 'Bird', 2: 'Mammal'}\n",
        "for i in d:\n",
        "    print(i)"
      ],
      "metadata": {
        "colab": {
          "base_uri": "https://localhost:8080/"
        },
        "id": "dSvFWAWqU4bP",
        "outputId": "965b4250-206b-477f-8912-3433d740fbec"
      },
      "execution_count": 1,
      "outputs": [
        {
          "output_type": "stream",
          "name": "stdout",
          "text": [
            "0\n",
            "1\n",
            "2\n"
          ]
        }
      ]
    },
    {
      "cell_type": "code",
      "source": [
        "d = {0, 1, 2}\n",
        "for x in d:\n",
        "    print(d.add(x))"
      ],
      "metadata": {
        "colab": {
          "base_uri": "https://localhost:8080/"
        },
        "id": "yJYiFQERWeyT",
        "outputId": "c231df9f-7b5d-4568-85ad-85b4bd1e0202"
      },
      "execution_count": 2,
      "outputs": [
        {
          "output_type": "stream",
          "name": "stdout",
          "text": [
            "None\n",
            "None\n",
            "None\n"
          ]
        }
      ]
    },
    {
      "cell_type": "code",
      "source": [
        "\n",
        "\n",
        "\n",
        "for i in range(1,6):\n",
        "    if (i % 3 == 0):\n",
        "        print(str(i) + \" is Divisible by 3\")\n",
        "        pass\n",
        "\n",
        "    print(str(i) + \" is not divisible by 3\")"
      ],
      "metadata": {
        "colab": {
          "base_uri": "https://localhost:8080/"
        },
        "id": "n4Gpsog9Xtpz",
        "outputId": "34643783-d76b-4342-8aec-cdd17731df23"
      },
      "execution_count": 6,
      "outputs": [
        {
          "output_type": "stream",
          "name": "stdout",
          "text": [
            "1 is not divisible by 3\n",
            "2 is not divisible by 3\n",
            "3 is Divisible by 3\n",
            "3 is not divisible by 3\n",
            "4 is not divisible by 3\n",
            "5 is not divisible by 3\n"
          ]
        }
      ]
    }
  ],
  "metadata": {
    "anaconda-cloud": {},
    "kernelspec": {
      "display_name": "Python 3",
      "language": "python",
      "name": "python3"
    },
    "language_info": {
      "codemirror_mode": {
        "name": "ipython",
        "version": 3
      },
      "file_extension": ".py",
      "mimetype": "text/x-python",
      "name": "python",
      "nbconvert_exporter": "python",
      "pygments_lexer": "ipython3",
      "version": "3.5.2"
    },
    "colab": {
      "provenance": [],
      "include_colab_link": true
    }
  },
  "nbformat": 4,
  "nbformat_minor": 0
}