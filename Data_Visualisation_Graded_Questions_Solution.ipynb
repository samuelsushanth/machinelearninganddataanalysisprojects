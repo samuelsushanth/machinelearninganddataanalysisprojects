{
  "cells": [
    {
      "cell_type": "markdown",
      "metadata": {
        "id": "view-in-github",
        "colab_type": "text"
      },
      "source": [
        "<a href=\"https://colab.research.google.com/github/samuelsushanth/machinelearninganddataanalysisprojects/blob/main/Data_Visualisation_Graded_Questions_Solution.ipynb\" target=\"_parent\"><img src=\"https://colab.research.google.com/assets/colab-badge.svg\" alt=\"Open In Colab\"/></a>"
      ]
    },
    {
      "cell_type": "markdown",
      "metadata": {
        "id": "--6ZiAPeRfud"
      },
      "source": [
        "## Data Visualisation - Graded Questions\n"
      ]
    },
    {
      "cell_type": "markdown",
      "metadata": {
        "id": "6VF86F7KRfuf"
      },
      "source": [
        "`Note` - *This stub file doesn't contain the conceptual questions asked on the platform*"
      ]
    },
    {
      "cell_type": "markdown",
      "metadata": {
        "id": "9UPMC6lORfug"
      },
      "source": [
        "### I) Marks Analysis\n",
        "\n",
        "In the **'Marks.csv'** file, you can find the scores obtained by 200 students in 4 subjects of a standardised test. The different columns - `Score A`, `Score B`, `Score C` and `Score D` indicate the score obtained by a particular student in the respective subjects A, B, C and D.\n",
        "\n",
        "\n",
        "\n",
        "Load the dataset to your notebook and answer the following questions"
      ]
    },
    {
      "cell_type": "code",
      "execution_count": 1,
      "metadata": {
        "id": "k8Er6KAMRfug"
      },
      "outputs": [],
      "source": [
        "#Load the necessary Libraries\n",
        "import pandas as pd\n",
        "import numpy as np\n",
        "import seaborn as sns\n",
        "import matplotlib.pyplot as plt"
      ]
    },
    {
      "cell_type": "code",
      "execution_count": 4,
      "metadata": {
        "id": "TBsVgsbTRfuh"
      },
      "outputs": [],
      "source": [
        "#Load the dataset\n",
        "df1 = pd.read_csv('Marks.csv')"
      ]
    },
    {
      "cell_type": "markdown",
      "metadata": {
        "id": "yEu7pFcrRfuh"
      },
      "source": [
        "**Q1)** Load the dataset and plot a histogram for the `Score A` column by keeping the `number of bins to 6`. Which bin range among the following has the highest frequency?\n",
        "\n",
        "(`Note` - *The bin ranges mentioned in the options are approximate values for the bin ranges that you'll actually get when you plot the histogram*)\n",
        "\n",
        "    a)0-50\n",
        "    b)50-100\n",
        "    c)150-200\n",
        "    d)200-250"
      ]
    },
    {
      "cell_type": "code",
      "execution_count": 5,
      "metadata": {
        "colab": {
          "base_uri": "https://localhost:8080/",
          "height": 499
        },
        "id": "8Dzejvu5Rfuh",
        "outputId": "26e77699-739b-4ec4-ee68-06f8fbe7c483"
      },
      "outputs": [
        {
          "output_type": "execute_result",
          "data": {
            "text/plain": [
              "(array([36., 34., 29., 30., 45., 26.]),\n",
              " array([  0.7       ,  49.98333333,  99.26666667, 148.55      ,\n",
              "        197.83333333, 247.11666667, 296.4       ]),\n",
              " <BarContainer object of 6 artists>)"
            ]
          },
          "metadata": {},
          "execution_count": 5
        },
        {
          "output_type": "display_data",
          "data": {
            "text/plain": [
              "<Figure size 640x480 with 1 Axes>"
            ],
            "image/png": "[encoded data removed]"
          },
          "metadata": {}
        }
      ],
      "source": [
        "#Plot a histogram for the marks of Score A and report the approximate range containing the highest frequency.\n",
        "plt.hist(df1['Score A'], bins = 6)"
      ]
    },
    {
      "cell_type": "markdown",
      "metadata": {
        "id": "qMNQx1TiRfui"
      },
      "source": [
        "*Ans* - `As you can clearly see the approximate range of 200-250 has the highest frequency`\n",
        "\n",
        "Hence **d) 200-250** is the correct option"
      ]
    },
    {
      "cell_type": "markdown",
      "metadata": {
        "id": "w1zRGDliRfui"
      },
      "source": [
        "**Q2)** Plot a box plot for the column `Score C` and choose the correct option.\n",
        "\n",
        "    A - The 25th percentile lies between 20 and 40\n",
        "    B - The 75th percentile lies between 40 and 60\n",
        "    C - The 25th percentile lies between 0 and 20\n",
        "    D - Both B and C"
      ]
    },
    {
      "cell_type": "code",
      "execution_count": 6,
      "metadata": {
        "scrolled": true,
        "colab": {
          "base_uri": "https://localhost:8080/",
          "height": 428
        },
        "id": "wn1q7DbIRfui",
        "outputId": "fc6d2962-a4dd-4c96-e80d-e4d83352a7b9"
      },
      "outputs": [
        {
          "output_type": "execute_result",
          "data": {
            "text/plain": [
              "<Axes: ylabel='Score C'>"
            ]
          },
          "metadata": {},
          "execution_count": 6
        },
        {
          "output_type": "display_data",
          "data": {
            "text/plain": [
              "<Figure size 640x480 with 1 Axes>"
            ],
            "image/png": "[encoded data removed]"
          },
          "metadata": {}
        }
      ],
      "source": [
        "#Plotting a box plot for Score C column\n",
        "sns.boxplot(df1['Score C'])"
      ]
    },
    {
      "cell_type": "markdown",
      "metadata": {
        "id": "eijMdLIORfui"
      },
      "source": [
        "*Ans* - We can clearly see that the `25th percentile lies between 0 and 20 whereas the 75th percentile lies between 40 and 60`\n",
        "\n",
        "Hence **D) Both B and C** is the correct option"
      ]
    },
    {
      "cell_type": "markdown",
      "metadata": {
        "id": "xOpGWLxDRfuj"
      },
      "source": [
        "### II) Superstore Data\n",
        "\n",
        "In the `superstore.csv` file, you have the details of orders purchased in an American online retail store. Load the dataset, observe and analyse the different columns and answer the following questions."
      ]
    },
    {
      "cell_type": "code",
      "execution_count": 7,
      "metadata": {
        "id": "Yj7I5K6SRfuj"
      },
      "outputs": [],
      "source": [
        "#Load the dataset\n",
        "df2 = pd.read_csv('superstore.csv')"
      ]
    },
    {
      "cell_type": "markdown",
      "metadata": {
        "id": "KQdnz09DRfuj"
      },
      "source": [
        "**Q4)** Plot a pie-chart to find the Ship Mode through which most of the orders are being delivered.\n",
        "\n",
        "     a)Standard Class\n",
        "     b)First Class\n",
        "     c)Second Class\n",
        "     d)Same Day\n",
        "     "
      ]
    },
    {
      "cell_type": "code",
      "execution_count": 8,
      "metadata": {
        "scrolled": true,
        "colab": {
          "base_uri": "https://localhost:8080/",
          "height": 423
        },
        "id": "F_K_cg7URfuj",
        "outputId": "9395c6cd-6834-4b29-ffde-446f35d1997d"
      },
      "outputs": [
        {
          "output_type": "execute_result",
          "data": {
            "text/plain": [
              "<Axes: ylabel='count'>"
            ]
          },
          "metadata": {},
          "execution_count": 8
        },
        {
          "output_type": "display_data",
          "data": {
            "text/plain": [
              "<Figure size 640x480 with 1 Axes>"
            ],
            "image/png": "[encoded data removed]"
          },
          "metadata": {}
        }
      ],
      "source": [
        "#Plotting a pie chart for ship mode\n",
        "df2['Ship Mode'].value_counts().plot.pie()"
      ]
    },
    {
      "cell_type": "markdown",
      "metadata": {
        "id": "scgeGFEXRfuj"
      },
      "source": [
        "Clearly `Standard Class has the biggest share in the pie chart`\n",
        "\n",
        "Hence **A)Standard Class** is the correct option"
      ]
    },
    {
      "cell_type": "markdown",
      "metadata": {
        "id": "w5LiLh3yRfuj"
      },
      "source": [
        "**Q5)** Plot a bar chart comparing the average `Discount` across all the `Regions` and report back the `Region` getting the highest average discount\n",
        "\n",
        "**Note** - You need to clean the `Discount` column first\n",
        "\n",
        "    a)Central\n",
        "    b)South\n",
        "    c)West\n",
        "    d)East"
      ]
    },
    {
      "cell_type": "code",
      "execution_count": 9,
      "metadata": {
        "id": "4--kuhNjRfuj"
      },
      "outputs": [],
      "source": [
        "#Cleaning the discount column\n",
        "df2['Discount']= df2['Discount'].apply(lambda x: float(x[:-1]))"
      ]
    },
    {
      "cell_type": "code",
      "execution_count": 10,
      "metadata": {
        "colab": {
          "base_uri": "https://localhost:8080/",
          "height": 466
        },
        "id": "Aiek_R09Rfuj",
        "outputId": "3757403f-ecc8-44ac-f408-f716c0ed8349"
      },
      "outputs": [
        {
          "output_type": "execute_result",
          "data": {
            "text/plain": [
              "<Axes: xlabel='Region', ylabel='Discount'>"
            ]
          },
          "metadata": {},
          "execution_count": 10
        },
        {
          "output_type": "display_data",
          "data": {
            "text/plain": [
              "<Figure size 640x480 with 1 Axes>"
            ],
            "image/png": "[encoded data removed]"
          },
          "metadata": {}
        }
      ],
      "source": [
        "#Plotting a bar plot\n",
        "sns.barplot(x = 'Region', y = 'Discount', data = df2)"
      ]
    },
    {
      "cell_type": "markdown",
      "metadata": {
        "id": "HGTvDhRyRfuj"
      },
      "source": [
        "You can clearly see that the Central Region has the highest average Discount.\n",
        "\n",
        "Hence **A)Central** is the correct option"
      ]
    },
    {
      "cell_type": "code",
      "execution_count": null,
      "metadata": {
        "id": "V2kgM2vsRfuj"
      },
      "outputs": [],
      "source": []
    }
  ],
  "metadata": {
    "kernelspec": {
      "display_name": "Python 3",
      "language": "python",
      "name": "python3"
    },
    "language_info": {
      "codemirror_mode": {
        "name": "ipython",
        "version": 3
      },
      "file_extension": ".py",
      "mimetype": "text/x-python",
      "name": "python",
      "nbconvert_exporter": "python",
      "pygments_lexer": "ipython3",
      "version": "3.7.3"
    },
    "colab": {
      "provenance": [],
      "include_colab_link": true
    }
  },
  "nbformat": 4,
  "nbformat_minor": 0
}